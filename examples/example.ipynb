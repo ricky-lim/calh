{
 "cells": [
  {
   "cell_type": "code",
   "execution_count": 1,
   "metadata": {},
   "outputs": [],
   "source": [
    "# For debugging purposes\n",
    "%load_ext autoreload\n",
    "%autoreload 2\n",
    "\n",
    "from IPython.core.interactiveshell import InteractiveShell\n",
    "\n",
    "InteractiveShell.ast_node_interactivity = \"all\""
   ]
  },
  {
   "cell_type": "code",
   "execution_count": 2,
   "metadata": {
    "pycharm": {
     "name": "#%%\n"
    }
   },
   "outputs": [],
   "source": [
    "from pyprojroot import here\n",
    "\n",
    "from calh.filter import CalendarFilter\n",
    "from calh.visualization import Heatmap"
   ]
  },
  {
   "cell_type": "code",
   "execution_count": 3,
   "metadata": {},
   "outputs": [],
   "source": [
    "input_file = here() / \"examples\" / \"data\" / \"raw\" / \"ics\" / \"liverpool.ics\"\n",
    "output_file = here() / \"examples\" / \"data\" / \"processed\" / \"png\" / \"liverpool.png\"\n",
    "Heatmap.create(input_file=input_file, output_file=output_file, title=\"Liverpool\")"
   ]
  },
  {
   "cell_type": "code",
   "execution_count": 11,
   "metadata": {},
   "outputs": [],
   "source": [
    "# Filter calendar\n",
    "\n",
    "raw_data = here() / \"examples\" / \"data\" / \"raw\" / \"ics\" / \"urlab.ics\"\n",
    "processed_data_single_year = (\n",
    "    here() / \"examples\" / \"data\" / \"processed\" / \"json\" / \"2015_urlab.json\"\n",
    ")\n",
    "processed_data_multiple_year = (\n",
    "    here() / \"examples\" / \"data\" / \"processed\" / \"json\" / \"2015-2020_urlab.json\"\n",
    ")\n",
    "\n",
    "# Interested only for workshop or tech\n",
    "CalendarFilter.filter(\n",
    "    input_file=raw_data,\n",
    "    output_file=processed_data_single_year,\n",
    "    re_pattern=\"tech\",\n",
    "    start_date=\"2015-01-01\",\n",
    "    end_date=\"2015-12-31\",\n",
    ")\n",
    "\n",
    "CalendarFilter.filter(\n",
    "    input_file=raw_data,\n",
    "    output_file=processed_data_multiple_year,\n",
    "    start_date=\"2015-01-01\",\n",
    "    end_date=\"2020-01-01\",\n",
    ")"
   ]
  },
  {
   "cell_type": "code",
   "execution_count": 12,
   "metadata": {},
   "outputs": [
    {
     "data": {
      "image/png": "[encoded data removed]",
      "text/plain": [
       "<Figure size 720x360 with 1 Axes>"
      ]
     },
     "metadata": {},
     "output_type": "display_data"
    }
   ],
   "source": [
    "single_hmap = Heatmap(input_data=processed_data_single_year, full_year=False)\n",
    "single_hmap.draw(title=\"test_single_year\", width=10, height=5)"
   ]
  },
  {
   "cell_type": "code",
   "execution_count": null,
   "metadata": {
    "pycharm": {
     "is_executing": true,
     "name": "#%%\n"
    }
   },
   "outputs": [],
   "source": [
    "hm = Heatmap(input_data=processed_data_multiple_year)\n",
    "hm.draw(title=\"test multiple years\", width=10, height=10)"
   ]
  },
  {
   "cell_type": "code",
   "execution_count": null,
   "metadata": {
    "pycharm": {
     "name": "#%%\n"
    }
   },
   "outputs": [],
   "source": []
  }
 ],
 "metadata": {
  "kernelspec": {
   "display_name": "Python 3",
   "language": "python",
   "name": "python3"
  },
  "language_info": {
   "codemirror_mode": {
    "name": "ipython",
    "version": 3
   },
   "file_extension": ".py",
   "mimetype": "text/x-python",
   "name": "python",
   "nbconvert_exporter": "python",
   "pygments_lexer": "ipython3",
   "version": "3.7.7"
  }
 },
 "nbformat": 4,
 "nbformat_minor": 2
}
